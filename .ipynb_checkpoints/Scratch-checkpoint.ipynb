{
 "cells": [
  {
   "cell_type": "code",
   "execution_count": 1,
   "id": "fc3de6ed-53ce-4c14-9458-feeb727e049d",
   "metadata": {},
   "outputs": [],
   "source": [
    "import uproot as root\n",
    "import numpy as np\n",
    "import matplotlib.pyplot as plt"
   ]
  },
  {
   "cell_type": "code",
   "execution_count": 2,
   "id": "727cb84b-01d6-4af9-a493-f2018cbd020e",
   "metadata": {},
   "outputs": [],
   "source": [
    "simpath = '/sdf/home/j/jjamidei/testing_51240920_000000.root'\n",
    "TESpath = '/sdf/home/j/jamidei/TEStesting_51241011_000000.root'"
   ]
  },
  {
   "cell_type": "code",
   "execution_count": 3,
   "id": "df2fa018-58fa-4db2-a915-090cef5e8fb1",
   "metadata": {},
   "outputs": [
    {
     "data": {
      "text/plain": [
       "{'G4SimDir;1': 'TDirectory',\n",
       " 'G4SimDir/mczip0;1': 'TTree',\n",
       " 'G4SimDir/g4dmcTES;1': 'TTree',\n",
       " 'G4SimDir/g4dmcEvent;1': 'TTree',\n",
       " 'G4SimDir/g4dmcHits;1': 'TTree',\n",
       " 'G4SimDir/mcprimary;1': 'TTree',\n",
       " 'G4SimDir/mcevent;1': 'TTree',\n",
       " 'G4SettingsInfoDir;1': 'TDirectory',\n",
       " 'G4SettingsInfoDir/RandomEngine;1': 'TMacro',\n",
       " 'G4SettingsInfoDir/SuperSim_Aliases;1': 'TMacro',\n",
       " 'G4SettingsInfoDir/SuperSim_Macro;1': 'TMacro',\n",
       " 'G4SettingsInfoDir/Versions;1': 'TTree',\n",
       " 'G4SettingsInfoDir/Git_Tags;1': 'TMacro',\n",
       " 'G4SettingsInfoDir/G4CMP_Version;1': 'TMacro',\n",
       " 'G4SettingsInfoDir/Geant4_Version;1': 'TMacro',\n",
       " 'G4SettingsInfoDir/Geant4_Env;1': 'TMacro',\n",
       " 'G4SettingsInfoDir/Geometry;1': 'TTree',\n",
       " 'G4SettingsInfoDir/runtime;1': 'TTree'}"
      ]
     },
     "execution_count": 3,
     "metadata": {},
     "output_type": "execute_result"
    }
   ],
   "source": [
    "simfile = root.open(simpath)\n",
    "\n",
    "simfile.classnames()"
   ]
  },
  {
   "cell_type": "code",
   "execution_count": 14,
   "id": "2ec3a1b5-2ba5-4808-aa66-2ed1ccd37e65",
   "metadata": {},
   "outputs": [
    {
     "name": "stdout",
     "output_type": "stream",
     "text": [
      "G4SimDir/mczip0;1: ['Empty', 'EventNum', 'BiasingIndex', 'DetType', 'DetNum', 'ChanType', 'ChanNum', 'QETNum', 'TrkStep', 'Parent', 'PType', 'PName', 'Charge', 'Weight', 'Edep', 'Yield', 'Depth', 'StepLen', 'KE3', 'Xmom3', 'Ymom3', 'Zmom3', 'X3', 'Y3', 'Z3', 'Time3', 'V3', 'KE', 'Xmom1', 'Ymom1', 'Zmom1', 'X1', 'Y1', 'Z1', 'Time1', 'V1', 'RamoScale', 'Process', 'BoundaryStatus']\n",
      "\n",
      "G4SimDir/g4dmcTES;1: ['EventNum', 'BiasingIndex', 'DetType', 'DetNum', 'ChanType', 'ChanNum', 'ChanName', 'DataType', 'T0', 'BinWidth', 'Units', 'Trace']\n",
      "\n",
      "G4SimDir/g4dmcEvent;1: ['EventNum', 'Empty', 'DetNum', 'DetType', 'DMCHits', 'nPhonon', 'PhononE', 'nCharge', 'ChargeQ', 'PhononEtes', 'PhononEpwr', 'ChargeQfet']\n",
      "\n",
      "G4SimDir/g4dmcHits;1: ['EventNum', 'DetNum', 'TrkStep', 'PType', 'X', 'Y', 'Z', 'Time', 'Xdet', 'Ydet', 'Zdet', 'trueEnergy', 'truedEdx', 'trueNIEL', 'LindhardYield', 'FanoFactor', 'chargeEnergy', 'chargeFano', 'chargeGenerated', 'lukeEnergyEst', 'truePairs', 'nPairs', 'phononEnergy', 'phononGenerated', 'truePhonons', 'nPhonons', 'samplingEnergy', 'samplingCharge', 'samplingPhonon', 'samplingLuke']\n",
      "\n",
      "G4SimDir/mcprimary;1: ['EventNum', 'PType', 'PName', 'Mass', 'Charge', 'Weight', 'KE', 'Xmom', 'Ymom', 'Zmom', 'X', 'Y', 'Z', 'Depth', 'Time', 'VolName']\n",
      "\n",
      "G4SimDir/mcevent;1: ['EventNum', 'Elapsed', 'ThreadID', 'HitsPerEvent', 'ZipsPerEvent', 'VetoPerEvent', 'BkgPerEvent', 'ZipsHit']\n",
      "\n",
      "G4SettingsInfoDir/RandomEngine;1: 'TMacro' is not iterable\n",
      "\n",
      "G4SettingsInfoDir/SuperSim_Aliases;1: 'TMacro' is not iterable\n",
      "\n",
      "G4SettingsInfoDir/SuperSim_Macro;1: 'TMacro' is not iterable\n",
      "\n",
      "G4SettingsInfoDir/Versions;1: ['SuperSim', 'Geant4', 'ROOT', 'G4CMP', 'RadSrc', 'CVODE', 'wimp_sim', 'EPotFiles', 'SimWorkFlowTools', 'SimProdMacros']\n",
      "\n",
      "G4SettingsInfoDir/Git_Tags;1: 'TMacro' is not iterable\n",
      "\n",
      "G4SettingsInfoDir/G4CMP_Version;1: 'TMacro' is not iterable\n",
      "\n",
      "G4SettingsInfoDir/Geant4_Version;1: 'TMacro' is not iterable\n",
      "\n",
      "G4SettingsInfoDir/Geant4_Env;1: 'TMacro' is not iterable\n",
      "\n",
      "G4SettingsInfoDir/Geometry;1: ['Facility', 'DetType', 'TypeName', 'DetNum', 'StackNum', 'ZipNum', 'CryoSlot', 'DetName', 'Crystal', 'Material', 'X', 'Y', 'Z', 'Rotation', 'RotPhi', 'Radius', 'Height', 'Mass', 'Axis1Len', 'Axis2Len', 'ExtraFlats', 'FlatR', 'FlatPhi', 'Channels', 'ChanName', 'ChanSide', 'ChanRMin', 'ChanRMax', 'ChanPhiMin', 'ChanPhiMax', 'ChanxRMin', 'ChanxRMax', 'ChanyRMin', 'ChanyRMax', 'ChanPhiMinXC', 'ChanPhiMinYC', 'ChanPhiMaxXC', 'ChanPhiMaxYC', 'LatticeHKL', 'LatticeRot', 'Voltage', 'EPotNodes', 'EPotTetra', 'TESPulses', 'TESConstants', 'FETPulses', 'FETConstants', 'FastConstants']\n",
      "\n",
      "G4SettingsInfoDir/runtime;1: ['RunNum', 'RunUUID', 'Events', 'Requested', 'Written', 'Threads', 'Elapsed', 'UserCPU', 'SystemCPU']\n",
      "\n"
     ]
    }
   ],
   "source": [
    "for key, classname in simfile.items():\n",
    "    #print(f'{key}              {classname}')\n",
    "    classname_str = str(classname)\n",
    "    \n",
    "    if 'TTree' in classname_str:\n",
    "        tree = simfile[key]\n",
    "        branches = tree.keys()\n",
    "        print(f\"{key}: {branches}\")\n",
    "        print()\n",
    "    elif 'TMacro' in classname_str:\n",
    "        print(f'{key}: \\'TMacro\\' is not iterable')\n",
    "        print()\n",
    "\n",
    "        #for branch in branches:\n",
    "        #    branch_data = tree[branch].array(library = 'np')\n",
    "        #    print(f'Data from branch {branch}: {branch_data}')\n",
    "        #    print()\n",
    "            #print(f'/{classname_str}/{key}/{branch_data}')\n",
    "            #print()"
   ]
  },
  {
   "cell_type": "code",
   "execution_count": 29,
   "id": "b946bf32-cddf-4b13-bbd6-6149749f99da",
   "metadata": {},
   "outputs": [
    {
     "name": "stdout",
     "output_type": "stream",
     "text": [
      "4096\n",
      "[0.]\n",
      "[0.]\n",
      "[-3.e-07]\n"
     ]
    },
    {
     "data": {
      "image/png": "[encoded data removed]",
      "text/plain": [
       "<Figure size 640x480 with 1 Axes>"
      ]
     },
     "metadata": {},
     "output_type": "display_data"
    }
   ],
   "source": [
    "x = simfile['G4SettingsInfoDir/Geometry/X'].array(library='np')\n",
    "y = simfile['G4SettingsInfoDir/Geometry/Y'].array(library='np')\n",
    "z = simfile['G4SettingsInfoDir/Geometry/Z'].array(library='np')\n",
    "t = simfile['G4SimDir/g4dmcTES/Trace'].array(library='np')\n",
    "tt = t[0]\n",
    "\n",
    "plt.plot(tt)\n",
    "print(len(tt))\n",
    "print(x)\n",
    "print(y)\n",
    "print(z)"
   ]
  },
  {
   "cell_type": "markdown",
   "id": "05dc70a6-0a96-4271-967f-d6d6f46956f7",
   "metadata": {},
   "source": [
    "Event ID\t\n",
    "Track ID\t\n",
    "Detector\t\n",
    "Channel\t\n",
    "DetType\t\n",
    "Particle Name\t\n",
    "Start Energy [eV]\t\n",
    "Start Voltage [V]\t\n",
    "Start X [m]\t\n",
    "Start Y [m]\t\n",
    "Start Z [m]\t\n",
    "Start \n",
    "Time [ns]\t\n",
    "Energy Deposited [eV]\t\n",
    "Track Weight\t\n",
    "End Voltage [V]\t\n",
    "End X [m]\t\n",
    "End Y [m]\t\n",
    "End Z [m]\t\n",
    "Final Time [ns]\t\n",
    "QET \n",
    "ID\t\n",
    "Ramo Scales'"
   ]
  },
  {
   "cell_type": "code",
   "execution_count": 16,
   "id": "bc230654-20bb-4d27-9add-f26dde89e83b",
   "metadata": {},
   "outputs": [
    {
     "name": "stdout",
     "output_type": "stream",
     "text": [
      "7.5943891043969405\n",
      "7.491119058543343\n"
     ]
    }
   ],
   "source": [
    "print(max(zz))\n",
    "print(min(zz))"
   ]
  },
  {
   "cell_type": "code",
   "execution_count": 33,
   "id": "97e66934-e518-4f38-8f1b-85219303f12f",
   "metadata": {},
   "outputs": [
    {
     "name": "stdout",
     "output_type": "stream",
     "text": [
      "['microampere' 'microampere']\n"
     ]
    }
   ],
   "source": [
    "t = simfile['G4SimDir/g4dmcTES/Units'].array(library='np')\n",
    "print(t)"
   ]
  },
  {
   "cell_type": "code",
   "execution_count": 22,
   "id": "65f1037a-bd10-4cd0-8587-76c4bd810d1e",
   "metadata": {},
   "outputs": [
    {
     "name": "stdout",
     "output_type": "stream",
     "text": [
      "['']\n"
     ]
    }
   ],
   "source": []
  },
  {
   "cell_type": "code",
   "execution_count": null,
   "id": "a0f33ca2-b4e3-4aba-8c30-cd99803efd60",
   "metadata": {},
   "outputs": [],
   "source": []
  }
 ],
 "metadata": {
  "kernelspec": {
   "display_name": "Python 3 (ipykernel)",
   "language": "python",
   "name": "python3"
  },
  "language_info": {
   "codemirror_mode": {
    "name": "ipython",
    "version": 3
   },
   "file_extension": ".py",
   "mimetype": "text/x-python",
   "name": "python",
   "nbconvert_exporter": "python",
   "pygments_lexer": "ipython3",
   "version": "3.10.12"
  }
 },
 "nbformat": 4,
 "nbformat_minor": 5
}
